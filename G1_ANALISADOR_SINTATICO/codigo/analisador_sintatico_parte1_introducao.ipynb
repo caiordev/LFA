{
 "cells": [
  {
   "cell_type": "markdown",
   "metadata": {},
   "source": [
    "# Analisador Sintático Baseado em Autômatos Finitos - Parte 1: Introdução"
   ]
  },
  {
   "cell_type": "code",
   "execution_count": 1,
   "metadata": {},
   "outputs": [],
   "source": [
    "# Importar bibliotecas necessárias\n",
    "import sys\n",
    "import os\n",
    "from IPython.display import Image, display\n",
    "from IPython.core.display import HTML\n",
    "\n",
    "# Adicionar o diretório atual ao path para importar os módulos\n",
    "sys.path.append('.')"
   ]
  },
  {
   "cell_type": "markdown",
   "metadata": {},
   "source": [
    "## 1. Conceitos Teóricos\n",
    "\n",
    "### 1.1 Autômatos Finitos\n",
    "\n",
    "Os estados representam diferentes estágios da análise sintática\n",
    "Os símbolos são as funções sintáticas (sujeito, verbo, objeto, etc)\n",
    "As transições definem sequências válidas de funções sintáticas\n",
    "O estado inicial é o ponto de partida da análise\n",
    "O estado final indica que a frase foi analisada com sucesso\n",
    "\n",
    "### 1.2 Análise Sintática\n",
    "\n",
    "A análise sintática é o processo de analisar uma frase para determinar sua estrutura gramatical. Envolve:\n",
    "\n",
    "1. **Tokenização**\n",
    "2. **Classificação**\n",
    "3. **Mapeamento sintático**\n",
    "4. **Validação**"
   ]
  },
  {
   "cell_type": "markdown",
   "metadata": {},
   "source": [
    "## 2. Arquitetura do Sistema\n",
    "\n",
    "O sistema é composto por vários módulos:\n",
    "\n",
    "1. **grammar.py**: Define as categorias gramaticais e estruturas sintáticas válidas\n",
    "2. **automaton.py**: Implementa a estrutura do autômato finito\n",
    "3. **syntactic_analyzer.py**: Implementa o analisador sintático usando o autômato\n",
    "4. **visualize_automaton.py**: Gera visualizações do autômato\n",
    "5. **automaton_gui.py**: Fornece uma interface gráfica para o analisador"
   ]
  },
  {
   "cell_type": "code",
   "execution_count": 4,
   "metadata": {},
   "outputs": [
    {
     "name": "stdout",
     "output_type": "stream",
     "text": [
      "Categorias gramaticais disponíveis:\n",
      "- ARTIGO: 8 palavras\n",
      "- PRONOME: 41 palavras\n",
      "- SUBSTANTIVO: 47 palavras\n",
      "- VERBO: 122 palavras\n",
      "- ADJETIVO: 71 palavras\n",
      "- PREPOSICAO: 22 palavras\n",
      "- PONTUACAO: 6 palavras\n",
      "- CONJUNCAO: 10 palavras\n",
      "- ADVERBIO: 25 palavras\n"
     ]
    }
   ],
   "source": [
    "# Importar os módulos\n",
    "from grammar import CATEGORIES, VALID_STRUCTURES\n",
    "from automaton import FiniteAutomaton\n",
    "from syntactic_analyzer import SyntacticAnalyzer\n",
    "\n",
    "# Exibir as categorias gramaticais disponíveis\n",
    "print(\"Categorias gramaticais disponíveis:\")\n",
    "for category, words in CATEGORIES.items():\n",
    "    print(f\"- {category}: {len(words)} palavras\")"
   ]
  },
  {
   "cell_type": "markdown",
   "metadata": {},
   "source": [
    "## 3. Fluxo de Processamento\n",
    "\n",
    "O fluxo de processamento do analisador sintático segue estas etapas:\n",
    "\n",
    "1. **Entrada**: Uma frase em português brasileiro\n",
    "2. **Tokenização**: A frase é dividida em tokens (palavras e pontuação)\n",
    "3. **Classificação Gramatical**: Cada token é classificado em uma categoria gramatical (substantivo, verbo, etc.)\n",
    "4. **Mapeamento Sintático**: Cada token recebe uma função sintática (sujeito, verbo, objeto, etc.)\n",
    "5. **Processamento pelo Autômato**: A sequência de funções sintáticas é processada pelo autômato\n",
    "6. **Validação**: O autômato verifica se a sequência forma uma estrutura sintática válida\n",
    "7. **Saída**: O resultado da análise, incluindo as funções sintáticas e a validação\n",
    "\n",
    "Este fluxo é implementado principalmente no método `analyze_sentence` da classe `SyntacticAnalyzer`."
   ]
  },
  {
   "cell_type": "code",
   "execution_count": 5,
   "metadata": {},
   "outputs": [
    {
     "name": "stdout",
     "output_type": "stream",
     "text": [
      "Frase: 'O gato come o peixe.'\n",
      "Estrutura sintática válida: True\n",
      "\n",
      "Tokens e funções sintáticas:\n",
      "  - 'o': ARTIGO → DET_SUJEITO\n",
      "  - 'gato': SUBSTANTIVO → SUJEITO\n",
      "  - 'come': VERBO → VERBO\n",
      "  - 'o': ARTIGO → DET_OBJETO\n",
      "  - 'peixe': SUBSTANTIVO → OBJETO\n",
      "  - '.': PONTUACAO → PONTUACAO\n"
     ]
    }
   ],
   "source": [
    "# Criar um analisador sintático\n",
    "analyzer = SyntacticAnalyzer()\n",
    "\n",
    "# Analisar uma frase simples\n",
    "frase = \"O gato come o peixe.\"\n",
    "is_valid, syntactic_tokens, path = analyzer.analyze_sentence(frase)\n",
    "\n",
    "print(f\"Frase: '{frase}'\")\n",
    "print(f\"Estrutura sintática válida: {is_valid}\\n\")\n",
    "\n",
    "print(\"Tokens e funções sintáticas:\")\n",
    "for token, category, function in syntactic_tokens:\n",
    "    print(f\"  - '{token}': {category} → {function}\")"
   ]
  }
 ],
 "metadata": {
  "kernelspec": {
   "display_name": "env",
   "language": "python",
   "name": "python3"
  },
  "language_info": {
   "codemirror_mode": {
    "name": "ipython",
    "version": 3
   },
   "file_extension": ".py",
   "mimetype": "text/x-python",
   "name": "python",
   "nbconvert_exporter": "python",
   "pygments_lexer": "ipython3",
   "version": "3.12.3"
  }
 },
 "nbformat": 4,
 "nbformat_minor": 4
}
