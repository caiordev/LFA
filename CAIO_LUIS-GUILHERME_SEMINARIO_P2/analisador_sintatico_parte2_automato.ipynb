{
 "cells": [
  {
   "cell_type": "markdown",
   "metadata": {},
   "source": [
    "# Analisador Sintático Baseado em Autômatos Finitos - Parte 2: Implementação do Autômato\n",
    "\n",
    "Nesta parte, vamos explorar a implementação do autômato finito usado para a análise sintática."
   ]
  },
  {
   "cell_type": "code",
   "execution_count": 2,
   "metadata": {},
   "outputs": [],
   "source": [
    "# Importar bibliotecas necessárias\n",
    "import sys\n",
    "sys.path.append('.')\n",
    "\n",
    "from automaton import FiniteAutomaton, State\n",
    "from syntactic_analyzer import SyntacticAnalyzer"
   ]
  },
  {
   "cell_type": "markdown",
   "metadata": {},
   "source": [
    "## 1. Estrutura do Autômato\n",
    "\n",
    "O autômato finito é implementado na classe `FiniteAutomaton` no arquivo `automaton.py`. Esta classe possui:\n",
    "\n",
    "- Uma coleção de estados (`states`)\n",
    "- Um estado inicial (`initial_state`)\n",
    "- Um estado atual (`current_state`)\n",
    "- Métodos para adicionar estados e transições\n",
    "- Métodos para processar símbolos de entrada\n",
    "\n",
    "Cada estado é representado pela classe `State`, que possui:\n",
    "\n",
    "- Um nome (`name`)\n",
    "- Um indicador se é um estado final (`is_final`)\n",
    "- Um dicionário de transições (`transitions`)"
   ]
  },
  {
   "cell_type": "code",
   "execution_count": 3,
   "metadata": {},
   "outputs": [
    {
     "name": "stdout",
     "output_type": "stream",
     "text": [
      "Autômato: Automaton(DemoAutomaton, states=[q0, q1, q2*], initial=q0)\n",
      "Processando 'ab': True\n",
      "Processando 'abc': False\n",
      "Processando 'ba': False\n"
     ]
    }
   ],
   "source": [
    "# Criar um autômato simples para demonstração\n",
    "automaton = FiniteAutomaton(\"DemoAutomaton\")\n",
    "\n",
    "# Adicionar estados\n",
    "automaton.add_state(\"q0\")\n",
    "automaton.add_state(\"q1\")\n",
    "automaton.add_state(\"q2\", is_final=True)\n",
    "\n",
    "# Definir estado inicial\n",
    "automaton.set_initial_state(\"q0\")\n",
    "\n",
    "# Adicionar transições\n",
    "automaton.add_transition(\"q0\", \"a\", \"q1\")\n",
    "automaton.add_transition(\"q1\", \"b\", \"q2\")\n",
    "\n",
    "# Testar o autômato\n",
    "print(f\"Autômato: {automaton}\")\n",
    "print(f\"Processando 'ab': {automaton.process_string('ab')}\")\n",
    "print(f\"Processando 'abc': {automaton.process_string('abc')}\")\n",
    "print(f\"Processando 'ba': {automaton.process_string('ba')}\")"
   ]
  },
  {
   "cell_type": "markdown",
   "metadata": {},
   "source": [
    "## 2. Autômato para Análise Sintática\n",
    "\n",
    "O autômato específico para análise sintática é construído no método `_build_automaton` da classe `SyntacticAnalyzer`. Este autômato possui os seguintes estados:\n",
    "\n",
    "- **q0**: Estado inicial\n",
    "- **q1**: Após reconhecer determinante do sujeito\n",
    "- **q2**: Após reconhecer sujeito\n",
    "- **q3**: Após reconhecer verbo\n",
    "- **q4**: Após reconhecer determinante do objeto\n",
    "- **q5**: Após reconhecer objeto ou advérbio\n",
    "- **q6**: Após reconhecer preposição\n",
    "- **q7**: Após reconhecer determinante do objeto indireto\n",
    "- **q8**: Após reconhecer objeto indireto\n",
    "- **q9**: Estado final (após pontuação)"
   ]
  },
  {
   "cell_type": "code",
   "execution_count": 4,
   "metadata": {},
   "outputs": [
    {
     "name": "stdout",
     "output_type": "stream",
     "text": [
      "Autômato para Análise Sintática:\n",
      "\n",
      "Estados:\n",
      "  - q0: Estado inicial (início da frase)\n",
      "  - q1: Após reconhecer determinante do sujeito\n",
      "  - q2: Após reconhecer sujeito\n",
      "  - q3: Após reconhecer verbo\n",
      "  - q4: Após reconhecer determinante do objeto\n",
      "  - q5: Após reconhecer objeto\n",
      "  - q6: Após reconhecer preposição\n",
      "  - q7: Após reconhecer determinante do objeto indireto\n",
      "  - q8: Após reconhecer objeto indireto\n",
      "  - q9: Estado final (após pontuação)\n",
      "\n",
      "Transições:\n",
      "  - q0 --DET_SUJEITO--> q1\n",
      "  - q0 --SUJEITO--> q2\n",
      "  - q1 --SUJEITO--> q2\n",
      "  - q2 --VERBO--> q3\n",
      "  - q3 --DET_OBJETO--> q4\n",
      "  - q3 --OBJETO--> q5\n",
      "  - q3 --PONTUACAO--> q9\n",
      "  - q4 --OBJETO--> q5\n",
      "  - q5 --PREPOSICAO--> q6\n",
      "  - q5 --PONTUACAO--> q9\n",
      "  - q6 --DET_OBJ_IND--> q7\n",
      "  - q6 --OBJ_INDIRETO--> q8\n",
      "  - q7 --OBJ_INDIRETO--> q8\n",
      "  - q8 --PONTUACAO--> q9\n",
      "\n",
      "Representação Visual:\n",
      "\n",
      "        (q0) --DET_SUJEITO--> (q1) --SUJEITO--> (q2) --VERBO--> (q3) --DET_OBJETO--> (q4) --OBJETO--> (q5) --PREPOSICAO--> (q6) --DET_OBJ_IND--> (q7) --OBJ_INDIRETO--> (q8) --PONTUACAO--> (q9)*\n",
      "          |                                        |                    |                                                           |\n",
      "          |                                        |                    |                                                           |\n",
      "          +--SUJEITO--> (q2)                       +--OBJETO--> (q5)    +--OBJ_INDIRETO--> (q8)                                    |\n",
      "                                                     |                                                                             |\n",
      "                                                     |                                                                             |\n",
      "                                                     +--PONTUACAO--> (q9)*                                                         |\n",
      "                                                                                                                                  |\n",
      "                                                                                                                                  |\n",
      "                                                                                                                                  v\n",
      "                                                                                                                               (q9)*\n",
      "                                                                                                                                               (q9)*\n",
      "        \n",
      "\n",
      "Explicação:\n",
      "  - Este autômato reconhece frases com a estrutura sintática básica do português brasileiro.\n",
      "  - Ele identifica sujeito, verbo, objeto direto e objeto indireto.\n",
      "  - O estado final q9 só é alcançado se a frase terminar com pontuação após uma estrutura válida.\n",
      "  - As transições representam o reconhecimento de funções sintáticas específicas.\n"
     ]
    }
   ],
   "source": [
    "# Criar um analisador sintático\n",
    "analyzer = SyntacticAnalyzer()\n",
    "\n",
    "# Obter a descrição do autômato\n",
    "automaton_description = analyzer.get_automaton_description()\n",
    "print(automaton_description)"
   ]
  },
  {
   "cell_type": "markdown",
   "metadata": {},
   "source": [
    "## 3. Transições do Autômato\n",
    "\n",
    "As transições entre estados são definidas com base nas funções sintáticas:\n",
    "\n",
    "- q0 → q1: DET_SUJEITO (determinante do sujeito)\n",
    "- q0 → q2: SUJEITO (sujeito sem determinante)\n",
    "- q1 → q2: SUJEITO (sujeito após determinante)\n",
    "- q2 → q3: VERBO\n",
    "- q3 → q4: DET_OBJETO (determinante do objeto)\n",
    "- q3 → q5: OBJETO/PREDICATIVO/VERBO_INFINITIVO/ADVERBIO\n",
    "- q3 → q6: PREPOSICAO (preposição após verbo)\n",
    "- q3 → q9: PONTUACAO (frase termina após verbo)\n",
    "- q4 → q5: OBJETO (objeto após determinante)\n",
    "- q5 → q5: ADVERBIO (advérbio após objeto ou outro advérbio)\n",
    "- q5 → q6: PREPOSICAO (preposição após objeto)\n",
    "- q5 → q9: PONTUACAO (frase termina após objeto)\n",
    "- q6 → q7: DET_OBJ_IND (determinante do objeto indireto)\n",
    "- q6 → q8: OBJ_INDIRETO (objeto indireto sem determinante)\n",
    "- q7 → q8: OBJ_INDIRETO (objeto indireto após determinante)\n",
    "- q8 → q8: ADVERBIO (advérbio após objeto indireto)\n",
    "- q8 → q9: PONTUACAO (frase termina após objeto indireto)"
   ]
  },
  {
   "cell_type": "code",
   "execution_count": 5,
   "metadata": {},
   "outputs": [
    {
     "name": "stdout",
     "output_type": "stream",
     "text": [
      "    def _build_automaton(self):\n",
      "        \"\"\"\n",
      "        Constrói um autômato finito para análise sintática.\n",
      "        Este autômato identifica funções sintáticas básicas como sujeito, verbo e objeto.\n",
      "        \"\"\"\n",
      "        # Criar autômato para análise sintática\n",
      "        automaton = FiniteAutomaton(\"SyntacticAnalyzer\")\n",
      "        \n",
      "        # Estados do autômato\n",
      "        # q0: Estado inicial\n",
      "        # q1: Após reconhecer determinante do sujeito\n",
      "        # q2: Após reconhecer sujeito\n",
      "        # q3: Após reconhecer verbo\n",
      "        # q4: Após reconhecer determinante do objeto\n",
      "        # q5: Após reconhecer objeto ou advérbio\n",
      "        # q6: Após reconhecer preposição\n",
      "        # q7: Após reconhecer determinante do objeto indireto\n",
      "        # q8: Após reconhecer objeto indireto\n",
      "        # q9: Estado final (após pontuação)\n",
      "        \n",
      "        # Adicionar estados\n",
      "        for i in range(10):\n",
      "            is_final = (i == 9)  # Apenas q9 é estado final\n",
      "            automaton.add_state(f\"q{i}\", is_final=is_final)\n",
      "        \n",
      "        # Definir estado inicial\n",
      "        automaton.set_initial_state(\"q0\")\n",
      "        \n",
      "        # Adicionar transições\n",
      "        # Reconhecimento do sujeito\n",
      "        automaton.add_transition(\"q0\", \"DET_SUJEITO\", \"q1\")  # Determinante do sujeito\n",
      "        automaton.add_transition(\"q0\", \"SUJEITO\", \"q2\")      # Sujeito sem determinante\n",
      "        automaton.add_transition(\"q1\", \"SUJEITO\", \"q2\")      # Sujeito após determinante\n",
      "        \n",
      "        # Reconhecimento do verbo\n",
      "        automaton.add_transition(\"q2\", \"VERBO\", \"q3\")        # Verbo após sujeito\n",
      "        \n",
      "        # Reconhecimento do objeto direto, predicativo ou verbo no infinitivo\n",
      "        automaton.add_transition(\"q3\", \"DET_OBJETO\", \"q4\")   # Determinante do objeto\n",
      "        automaton.add_transition(\"q3\", \"OBJETO\", \"q5\")       # Objeto sem determinante (inclui adjetivos)\n",
      "        automaton.add_transition(\"q3\", \"PREDICATIVO\", \"q5\")  # Predicativo do sujeito após verbo de ligação\n",
      "        automaton.add_transition(\"q3\", \"VERBO_INFINITIVO\", \"q5\")  # Verbo no infinitivo após verbo auxiliar\n",
      "        automaton.add_transition(\"q3\", \"ADVERBIO\", \"q5\")     # Advérbio após verbo\n",
      "        automaton.add_transition(\"q3\", \"PREPOSICAO\", \"q6\")   # Preposição após verbo (para frases como \"Eu liguei ao diretor\")\n",
      "        automaton.add_transition(\"q4\", \"OBJETO\", \"q5\")       # Objeto após determinante\n",
      "        \n",
      "        # Reconhecimento do objeto indireto\n",
      "        automaton.add_transition(\"q5\", \"PREPOSICAO\", \"q6\")   # Preposição após objeto\n",
      "        automaton.add_transition(\"q5\", \"ADVERBIO\", \"q5\")     # Advérbio após objeto ou outro advérbio\n",
      "        automaton.add_transition(\"q6\", \"DET_OBJ_IND\", \"q7\")  # Determinante do objeto indireto\n",
      "        automaton.add_transition(\"q6\", \"OBJ_INDIRETO\", \"q8\") # Objeto indireto sem determinante\n",
      "        automaton.add_transition(\"q7\", \"OBJ_INDIRETO\", \"q8\") # Objeto indireto após determinante\n",
      "        automaton.add_transition(\"q8\", \"ADVERBIO\", \"q8\")     # Advérbio após objeto indireto\n",
      "        \n",
      "        # Finalização com pontuação\n",
      "        automaton.add_transition(\"q3\", \"PONTUACAO\", \"q9\")    # Frase termina após verbo\n",
      "        automaton.add_transition(\"q5\", \"PONTUACAO\", \"q9\")    # Frase termina após objeto direto, advérbio ou verbo no infinitivo\n",
      "        automaton.add_transition(\"q8\", \"PONTUACAO\", \"q9\")    # Frase termina após objeto indireto ou advérbio\n",
      "        \n",
      "        return automaton\n",
      "\n"
     ]
    }
   ],
   "source": [
    "# Visualizar o código que constrói o autômato\n",
    "import inspect\n",
    "\n",
    "build_automaton_code = inspect.getsource(SyntacticAnalyzer._build_automaton)\n",
    "print(build_automaton_code)"
   ]
  },
  {
   "cell_type": "markdown",
   "metadata": {},
   "source": [
    "## 4. Processamento de Entrada pelo Autômato\n",
    "\n",
    "Durante a análise sintática, o autômato processa uma sequência de funções sintáticas (não as palavras em si). O método `analyze_sentence` da classe `SyntacticAnalyzer` coordena este processo:\n",
    "\n",
    "1. Tokeniza a frase\n",
    "2. Classifica cada token em uma categoria gramatical\n",
    "3. Mapeia cada token para uma função sintática\n",
    "4. Processa a sequência de funções sintáticas pelo autômato\n",
    "5. Verifica se o autômato termina em um estado final\n",
    "\n",
    "Se o autômato terminar em um estado final, a frase é considerada sintaticamente válida."
   ]
  },
  {
   "cell_type": "code",
   "execution_count": 6,
   "metadata": {},
   "outputs": [
    {
     "name": "stdout",
     "output_type": "stream",
     "text": [
      "Frase: 'Eu liguei ao diretor ontem.'\n",
      "Estrutura sintática válida: True\n",
      "\n",
      "Caminho percorrido no autômato:\n",
      "  q0 (estado inicial)\n",
      "  q2 <-- SUJEITO --\n",
      "  q3 <-- VERBO --\n",
      "  q6 <-- PREPOSICAO --\n",
      "  q8 <-- OBJ_INDIRETO --\n",
      "  q8 <-- ADVERBIO --\n",
      "  q9 <-- PONTUACAO --\n"
     ]
    }
   ],
   "source": [
    "# Analisar uma frase e mostrar o caminho percorrido no autômato\n",
    "frase = \"Eu liguei ao diretor ontem.\"\n",
    "is_valid, syntactic_tokens, path = analyzer.analyze_sentence(frase)\n",
    "\n",
    "print(f\"Frase: '{frase}'\")\n",
    "print(f\"Estrutura sintática válida: {is_valid}\\n\")\n",
    "\n",
    "print(\"Caminho percorrido no autômato:\")\n",
    "for i, (state, symbol) in enumerate(path):\n",
    "    if i == 0:\n",
    "        print(f\"  {state} (estado inicial)\")\n",
    "    else:\n",
    "        print(f\"  {state} <-- {symbol} --\")"
   ]
  }
 ],
 "metadata": {
  "kernelspec": {
   "display_name": "venv",
   "language": "python",
   "name": "python3"
  },
  "language_info": {
   "codemirror_mode": {
    "name": "ipython",
    "version": 3
   },
   "file_extension": ".py",
   "mimetype": "text/x-python",
   "name": "python",
   "nbconvert_exporter": "python",
   "pygments_lexer": "ipython3",
   "version": "3.12.3"
  }
 },
 "nbformat": 4,
 "nbformat_minor": 4
}
