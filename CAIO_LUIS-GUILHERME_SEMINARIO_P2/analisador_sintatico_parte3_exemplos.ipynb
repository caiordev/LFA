{
 "cells": [
  {
   "cell_type": "markdown",
   "metadata": {},
   "source": [
    "# Analisador Sintático Baseado em Autômatos Finitos - Parte 3: Análise de Exemplos\n",
    "\n",
    "Nesta parte, vamos analisar exemplos de frases usando o analisador sintático e visualizar o caminho percorrido no autômato."
   ]
  },
  {
   "cell_type": "code",
   "execution_count": 1,
   "metadata": {},
   "outputs": [],
   "source": [
    "# Importar bibliotecas necessárias\n",
    "import sys\n",
    "import os\n",
    "from IPython.display import Image, display\n",
    "sys.path.append('.')\n",
    "\n",
    "from syntactic_analyzer import SyntacticAnalyzer\n",
    "from visualize_automaton import AutomatonVisualizer"
   ]
  },
  {
   "cell_type": "markdown",
   "metadata": {},
   "source": [
    "## 1. Análise de Exemplos Básicos\n",
    "\n",
    "Vamos analisar algumas frases com diferentes estruturas sintáticas para ver como o autômato as processa."
   ]
  },
  {
   "cell_type": "code",
   "execution_count": 6,
   "metadata": {},
   "outputs": [
    {
     "name": "stdout",
     "output_type": "stream",
     "text": [
      "\n",
      "==================================================\n",
      "Analisando: 'O gato come o peixe.'\n",
      "==================================================\n",
      "Frase: O gato come o peixe.\n",
      "\n",
      "Análise Sintática:\n",
      "  - 'o': ARTIGO → DET_SUJEITO\n",
      "  - 'gato': SUBSTANTIVO → SUJEITO\n",
      "  - 'come': VERBO → VERBO\n",
      "  - 'o': ARTIGO → DET_OBJETO\n",
      "  - 'peixe': SUBSTANTIVO → OBJETO\n",
      "  - '.': PONTUACAO → PONTUACAO\n",
      "\n",
      "Resultado da Análise:\n",
      "  ✓ Estrutura sintática válida!\n",
      "\n",
      "Partes da Oração:\n",
      "  - Sujeito: o gato\n",
      "  - Predicado: come o peixe\n",
      "  - Verbo: come\n",
      "  - Objeto Direto: o peixe\n",
      "\n",
      "==================================================\n",
      "Analisando: 'Maria estuda matemática.'\n",
      "==================================================\n",
      "Frase: Maria estuda matemática.\n",
      "\n",
      "Análise Sintática:\n",
      "  - 'maria': SUBSTANTIVO → SUJEITO\n",
      "  - 'estuda': VERBO → VERBO\n",
      "  - 'matemática': SUBSTANTIVO → OBJETO\n",
      "  - '.': PONTUACAO → PONTUACAO\n",
      "\n",
      "Resultado da Análise:\n",
      "  ✓ Estrutura sintática válida!\n",
      "\n",
      "Partes da Oração:\n",
      "  - Sujeito: maria\n",
      "  - Predicado: estuda matemática\n",
      "  - Verbo: estuda\n",
      "  - Objeto Direto: matemática\n",
      "\n",
      "==================================================\n",
      "Analisando: 'O professor explicou a matéria aos alunos.'\n",
      "==================================================\n",
      "Frase: O professor explicou a matéria aos alunos.\n",
      "\n",
      "Análise Sintática:\n",
      "  - 'o': ARTIGO → DET_SUJEITO\n",
      "  - 'professor': SUBSTANTIVO → SUJEITO\n",
      "  - 'explicou': VERBO → VERBO\n",
      "  - 'a': ARTIGO → DET_OBJETO\n",
      "  - 'matéria': SUBSTANTIVO → OBJETO\n",
      "  - 'aos': PREPOSICAO → PREPOSICAO\n",
      "  - 'alunos': SUBSTANTIVO → OBJ_INDIRETO\n",
      "  - '.': PONTUACAO → PONTUACAO\n",
      "\n",
      "Resultado da Análise:\n",
      "  ✓ Estrutura sintática válida!\n",
      "\n",
      "Partes da Oração:\n",
      "  - Sujeito: o professor\n",
      "  - Predicado: explicou a matéria aos alunos\n",
      "  - Verbo: explicou\n",
      "  - Objeto Direto: a matéria\n",
      "  - Objeto Indireto: aos alunos\n",
      "\n",
      "==================================================\n",
      "Analisando: 'Eu liguei ao diretor ontem.'\n",
      "==================================================\n",
      "Frase: Eu liguei ao diretor ontem.\n",
      "\n",
      "Análise Sintática:\n",
      "  - 'eu': PRONOME → SUJEITO\n",
      "  - 'liguei': VERBO → VERBO\n",
      "  - 'ao': PREPOSICAO → PREPOSICAO\n",
      "  - 'diretor': SUBSTANTIVO → OBJ_INDIRETO\n",
      "  - 'ontem': ADVERBIO → ADVERBIO\n",
      "  - '.': PONTUACAO → PONTUACAO\n",
      "\n",
      "Resultado da Análise:\n",
      "  ✓ Estrutura sintática válida!\n",
      "\n",
      "Partes da Oração:\n",
      "  - Sujeito: eu\n",
      "  - Predicado: liguei ao diretor\n",
      "  - Verbo: liguei\n",
      "  - Objeto Indireto: ao diretor\n"
     ]
    }
   ],
   "source": [
    "# Criar um analisador sintático\n",
    "analyzer = SyntacticAnalyzer()\n",
    "\n",
    "# Exemplos de frases para análise\n",
    "exemplos = [\n",
    "    \"O gato come o peixe.\",\n",
    "    \"Maria estuda matemática.\",\n",
    "    \"O professor explicou a matéria aos alunos.\",\n",
    "    \"Eu liguei ao diretor ontem.\"\n",
    "]\n",
    "\n",
    "# Analisar cada exemplo\n",
    "for exemplo in exemplos:\n",
    "    print(f\"\\n{'='*50}\")\n",
    "    print(f\"Analisando: '{exemplo}'\")\n",
    "    print(f\"{'='*50}\")\n",
    "    \n",
    "    explanation, _ = analyzer.explain_analysis(exemplo)\n",
    "    print(explanation)"
   ]
  },
  {
   "cell_type": "markdown",
   "metadata": {},
   "source": [
    "## 2. Análise Detalhada de um Exemplo\n",
    "\n",
    "Vamos analisar em detalhes o exemplo \"Eu liguei ao diretor ontem.\", que inclui um advérbio."
   ]
  },
  {
   "cell_type": "code",
   "execution_count": 7,
   "metadata": {},
   "outputs": [
    {
     "name": "stdout",
     "output_type": "stream",
     "text": [
      "Frase: 'Eu liguei ao diretor ontem.'\n",
      "Estrutura sintática válida: True\n",
      "\n",
      "Tokens e funções sintáticas:\n",
      "  - 'eu': PRONOME → SUJEITO\n",
      "  - 'liguei': VERBO → VERBO\n",
      "  - 'ao': PREPOSICAO → PREPOSICAO\n",
      "  - 'diretor': SUBSTANTIVO → OBJ_INDIRETO\n",
      "  - 'ontem': ADVERBIO → ADVERBIO\n",
      "  - '.': PONTUACAO → PONTUACAO\n",
      "\n",
      "Caminho percorrido no autômato:\n",
      "  q0 (estado inicial)\n",
      "  q2 <-- SUJEITO --\n",
      "  q3 <-- VERBO --\n",
      "  q6 <-- PREPOSICAO --\n",
      "  q8 <-- OBJ_INDIRETO --\n",
      "  q8 <-- ADVERBIO --\n",
      "  q9 <-- PONTUACAO --\n"
     ]
    }
   ],
   "source": [
    "# Analisar uma frase específica\n",
    "frase = \"Eu liguei ao diretor ontem.\"\n",
    "is_valid, syntactic_tokens, path = analyzer.analyze_sentence(frase)\n",
    "\n",
    "print(f\"Frase: '{frase}'\")\n",
    "print(f\"Estrutura sintática válida: {is_valid}\\n\")\n",
    "\n",
    "print(\"Tokens e funções sintáticas:\")\n",
    "for token, category, function in syntactic_tokens:\n",
    "    print(f\"  - '{token}': {category} → {function}\")\n",
    "\n",
    "print(\"\\nCaminho percorrido no autômato:\")\n",
    "for i, (state, symbol) in enumerate(path):\n",
    "    if i == 0:\n",
    "        print(f\"  {state} (estado inicial)\")\n",
    "    else:\n",
    "        print(f\"  {state} <-- {symbol} --\")"
   ]
  },
  {
   "cell_type": "markdown",
   "metadata": {},
   "source": [
    "### 2.1 Explicação do Caminho\n",
    "\n",
    "Para a frase \"Eu liguei ao diretor ontem.\", o autômato segue o seguinte caminho:\n",
    "\n",
    "1. **q0** (estado inicial)\n",
    "2. **q2** ← SUJEITO (\"Eu\"): O pronome \"Eu\" é reconhecido como sujeito\n",
    "3. **q3** ← VERBO (\"liguei\"): O verbo \"liguei\" é reconhecido\n",
    "4. **q6** ← PREPOSICAO (\"ao\"): A preposição \"ao\" é reconhecida\n",
    "5. **q8** ← OBJ_INDIRETO (\"diretor\"): O substantivo \"diretor\" é reconhecido como objeto indireto\n",
    "6. **q8** ← ADVERBIO (\"ontem\"): O advérbio \"ontem\" é reconhecido\n",
    "7. **q9** ← PONTUACAO (\".\"): A pontuação final é reconhecida, levando ao estado final\n",
    "\n",
    "Como o autômato termina no estado final q9, a frase é considerada sintaticamente válida."
   ]
  },
  {
   "cell_type": "markdown",
   "metadata": {},
   "source": [
    "## 3. Visualização do Autômato\n",
    "\n",
    "O módulo `visualize_automaton.py` gera visualizações do autômato e do caminho percorrido durante a análise de uma frase. Ele usa a biblioteca Graphviz para criar representações gráficas do autômato."
   ]
  },
  {
   "cell_type": "code",
   "execution_count": 8,
   "metadata": {},
   "outputs": [
    {
     "data": {
      "image/png": "[encoded data removed]",
      "text/plain": [
       "<IPython.core.display.Image object>"
      ]
     },
     "metadata": {},
     "output_type": "display_data"
    }
   ],
   "source": [
    "# Criar o visualizador\n",
    "visualizer = AutomatonVisualizer()\n",
    "\n",
    "# Visualizar uma frase\n",
    "frase = \"Eu liguei ao diretor ontem.\"\n",
    "image_path, gif_path, is_valid, syntactic_tokens = visualizer.visualize_sentence(frase)\n",
    "\n",
    "# Exibir a imagem do autômato\n",
    "if os.path.exists(image_path):\n",
    "    display(Image(filename=image_path))\n",
    "else:\n",
    "    print(f\"Imagem não encontrada: {image_path}\")"
   ]
  },
  {
   "cell_type": "markdown",
   "metadata": {},
   "source": [
    "### 3.1 Explicação da Visualização\n",
    "\n",
    "Na visualização do autômato:\n",
    "\n",
    "- Os estados são representados por círculos\n",
    "- O estado final (q9) é representado por um círculo duplo\n",
    "- As transições são representadas por setas rotuladas com funções sintáticas\n",
    "- Os estados e transições percorridos durante a análise são destacados em vermelho\n",
    "\n",
    "Esta visualização ajuda a entender como o autômato processa a frase e como as diferentes funções sintáticas levam de um estado a outro."
   ]
  },
  {
   "cell_type": "markdown",
   "metadata": {},
   "source": [
    "## 4. Análise de Diferentes Estruturas Sintáticas\n",
    "\n",
    "Vamos analisar frases com diferentes estruturas sintáticas para ver como o autômato lida com elas."
   ]
  },
  {
   "cell_type": "code",
   "execution_count": 9,
   "metadata": {},
   "outputs": [
    {
     "name": "stdout",
     "output_type": "stream",
     "text": [
      "\n",
      "Frase: 'O gato come o peixe.'\n",
      "Estrutura válida: ✓\n",
      "Partes da oração:\n",
      "  - Sujeito: o gato\n",
      "  - Verbo: come\n",
      "  - Objeto Direto: o peixe\n",
      "\n",
      "Frase: 'Maria estuda matemática.'\n",
      "Estrutura válida: ✓\n",
      "Partes da oração:\n",
      "  - Sujeito: maria\n",
      "  - Verbo: estuda\n",
      "  - Objeto Direto: matemática\n",
      "\n",
      "Frase: 'O professor explicou a matéria aos alunos.'\n",
      "Estrutura válida: ✓\n",
      "Partes da oração:\n",
      "  - Sujeito: o professor\n",
      "  - Verbo: explicou\n",
      "  - Objeto Direto: a matéria\n",
      "  - Objeto Indireto: aos alunos\n",
      "\n",
      "Frase: 'Eu liguei ao diretor ontem.'\n",
      "Estrutura válida: ✓\n",
      "Partes da oração:\n",
      "  - Sujeito: eu\n",
      "  - Verbo: liguei\n",
      "  - Objeto Indireto: ao diretor\n",
      "  - Advérbio: ontem\n",
      "\n",
      "Frase: 'O carro é bonito.'\n",
      "Estrutura válida: ✓\n",
      "Partes da oração:\n",
      "  - Sujeito: o carro\n",
      "  - Verbo: é\n",
      "  - Predicativo: bonito\n",
      "\n",
      "Frase: 'Ele corre rapidamente.'\n",
      "Estrutura válida: ✓\n",
      "Partes da oração:\n",
      "  - Sujeito: ele\n",
      "  - Verbo: corre\n",
      "  - Advérbio: rapidamente\n"
     ]
    }
   ],
   "source": [
    "# Exemplos de frases com diferentes estruturas\n",
    "estruturas = [\n",
    "    # Sujeito + Verbo + Objeto Direto\n",
    "    \"O gato come o peixe.\",\n",
    "    \n",
    "    # Sujeito + Verbo + Objeto Direto (sem determinante)\n",
    "    \"Maria estuda matemática.\",\n",
    "    \n",
    "    # Sujeito + Verbo + Objeto Direto + Objeto Indireto\n",
    "    \"O professor explicou a matéria aos alunos.\",\n",
    "    \n",
    "    # Sujeito + Verbo + Objeto Indireto + Advérbio\n",
    "    \"Eu liguei ao diretor ontem.\",\n",
    "    \n",
    "    # Sujeito + Verbo de Ligação + Predicativo\n",
    "    \"O carro é bonito.\",\n",
    "    \n",
    "    # Sujeito + Verbo + Advérbio\n",
    "    \"Ele corre rapidamente.\"\n",
    "]\n",
    "\n",
    "# Analisar cada estrutura\n",
    "for frase in estruturas:\n",
    "    is_valid, syntactic_tokens, _ = analyzer.analyze_sentence(frase)\n",
    "    \n",
    "    print(f\"\\nFrase: '{frase}'\")\n",
    "    print(f\"Estrutura válida: {'✓' if is_valid else '✗'}\")\n",
    "    \n",
    "    # Identificar as partes da oração\n",
    "    sujeito = [token for token, _, function in syntactic_tokens \n",
    "              if function in [\"SUJEITO\", \"DET_SUJEITO\"]]\n",
    "    verbo = [token for token, _, function in syntactic_tokens if function == \"VERBO\"]\n",
    "    obj_direto = [token for token, _, function in syntactic_tokens \n",
    "                 if function in [\"OBJETO\", \"DET_OBJETO\"]]\n",
    "    obj_indireto = [token for token, _, function in syntactic_tokens \n",
    "                   if function in [\"OBJ_INDIRETO\", \"DET_OBJ_IND\", \"PREPOSICAO\"]]\n",
    "    adverbio = [token for token, _, function in syntactic_tokens if function == \"ADVERBIO\"]\n",
    "    predicativo = [token for token, _, function in syntactic_tokens if function == \"PREDICATIVO\"]\n",
    "    \n",
    "    print(\"Partes da oração:\")\n",
    "    if sujeito:\n",
    "        print(f\"  - Sujeito: {' '.join(sujeito)}\")\n",
    "    if verbo:\n",
    "        print(f\"  - Verbo: {' '.join(verbo)}\")\n",
    "    if predicativo:\n",
    "        print(f\"  - Predicativo: {' '.join(predicativo)}\")\n",
    "    if obj_direto:\n",
    "        print(f\"  - Objeto Direto: {' '.join(obj_direto)}\")\n",
    "    if obj_indireto:\n",
    "        print(f\"  - Objeto Indireto: {' '.join(obj_indireto)}\")\n",
    "    if adverbio:\n",
    "        print(f\"  - Advérbio: {' '.join(adverbio)}\")"
   ]
  }
 ],
 "metadata": {
  "kernelspec": {
   "display_name": "venv",
   "language": "python",
   "name": "python3"
  },
  "language_info": {
   "codemirror_mode": {
    "name": "ipython",
    "version": 3
   },
   "file_extension": ".py",
   "mimetype": "text/x-python",
   "name": "python",
   "nbconvert_exporter": "python",
   "pygments_lexer": "ipython3",
   "version": "3.12.3"
  }
 },
 "nbformat": 4,
 "nbformat_minor": 4
}
