{
 "cells": [
  {
   "cell_type": "markdown",
   "metadata": {},
   "source": [
    "1. Listagem de Elementos de um Conjunto"
   ]
  },
  {
   "cell_type": "code",
   "execution_count": 4,
   "metadata": {},
   "outputs": [
    {
     "name": "stdout",
     "output_type": "stream",
     "text": [
      "{'e', 'u', 'a', 'o', 'i'}\n"
     ]
    }
   ],
   "source": [
    "V = {'a', 'e', 'i', 'o', 'u'}\n",
    "print(V)"
   ]
  },
  {
   "cell_type": "markdown",
   "metadata": {},
   "source": [
    " Em Python, conjuntos são representados por elementos entre chaves {}, separados por vírgulas. Conjuntos são coleções não ordenadas e não indexadas de elementos únicos. A ordem de impressão pode não corresponder à ordem de inserção."
   ]
  },
  {
   "cell_type": "markdown",
   "metadata": {},
   "source": [
    "2. Verificação de Elementos em um Conjunto"
   ]
  },
  {
   "cell_type": "code",
   "execution_count": 3,
   "metadata": {},
   "outputs": [
    {
     "name": "stdout",
     "output_type": "stream",
     "text": [
      "True\n"
     ]
    }
   ],
   "source": [
    "V = {'a', 'e', 'i', 'o', 'u'}\n",
    "print('a' in V)  # Retorna True se 'a' está no conjunto"
   ]
  },
  {
   "cell_type": "markdown",
   "metadata": {},
   "source": [
    "A verificação de pertencimento em conjuntos usa o operador in, que é altamente eficiente em Python (O(1) em média), pois os conjuntos são implementados como tabelas hash."
   ]
  },
  {
   "cell_type": "markdown",
   "metadata": {},
   "source": [
    "3. Criação de um Conjunto com Propriedades Específicas"
   ]
  },
  {
   "cell_type": "code",
   "execution_count": 7,
   "metadata": {},
   "outputs": [
    {
     "name": "stdout",
     "output_type": "stream",
     "text": [
      "{16, 18, 12, 14}\n"
     ]
    }
   ],
   "source": [
    "B = {x for x in range(11, 20) if x % 2 == 0}\n",
    "print(B)"
   ]
  },
  {
   "cell_type": "markdown",
   "metadata": {},
   "source": [
    "Podemos criar conjuntos usando compreensão de conjuntos (set comprehension). A compreensão é útil quando há um padrão ou quando o conjunto é grande."
   ]
  },
  {
   "cell_type": "markdown",
   "metadata": {},
   "source": [
    "4. Comparação de Conjuntos"
   ]
  },
  {
   "cell_type": "code",
   "execution_count": 9,
   "metadata": {},
   "outputs": [
    {
     "name": "stdout",
     "output_type": "stream",
     "text": [
      "False\n",
      "False\n"
     ]
    }
   ],
   "source": [
    "V = {'a', 'e', 'i', 'o', 'u'}\n",
    "C = {'i', 'o', 'u'}\n",
    "print(C.issubset(V))  # Retorna True se todos elementos de C estão em V\n",
    "# também podemos fazer dessa forma:\n",
    "print(C <= V)"
   ]
  },
  {
   "cell_type": "markdown",
   "metadata": {},
   "source": [
    "Para verificar se um conjunto é subconjunto de outro, podemos usar o método issubset() ou o operador <=. Esta operação verifica se todos os elementos do primeiro conjunto estão contidos no segundo."
   ]
  },
  {
   "cell_type": "markdown",
   "metadata": {},
   "source": [
    "5. Descrição de Conjuntos por Compreensão"
   ]
  },
  {
   "cell_type": "code",
   "execution_count": 10,
   "metadata": {},
   "outputs": [
    {
     "name": "stdout",
     "output_type": "stream",
     "text": [
      "{9, 3, 6}\n"
     ]
    }
   ],
   "source": [
    "D = {x for x in range(1, 11) if x % 3 == 0}\n",
    "print(D)"
   ]
  },
  {
   "cell_type": "markdown",
   "metadata": {},
   "source": [
    "A compreensão de conjuntos (set comprehension) permite criar conjuntos de forma concisa. Neste caso, geramos números de 1 a 10 e filtramos apenas os divisíveis por 3. Note que range(1, 11) inclui 1 mas exclui 11."
   ]
  },
  {
   "cell_type": "markdown",
   "metadata": {},
   "source": [
    "6. União de Conjuntos"
   ]
  },
  {
   "cell_type": "code",
   "execution_count": 11,
   "metadata": {},
   "outputs": [
    {
     "name": "stdout",
     "output_type": "stream",
     "text": [
      "{1, 2, 3, 4, 5}\n"
     ]
    }
   ],
   "source": [
    "A = {1, 2, 3}\n",
    "B = {3, 4, 5}\n",
    "uniao = A.union(B)\n",
    "print(uniao)"
   ]
  },
  {
   "cell_type": "markdown",
   "metadata": {},
   "source": [
    "A união de conjuntos combina todos os elementos distintos de ambos conjuntos. Em Python, podemos usar o método union() ou o operador |. A união é uma operação comutativa (A ∪ B = B ∪ A)."
   ]
  },
  {
   "cell_type": "markdown",
   "metadata": {},
   "source": [
    "7. Interseção de Conjuntos"
   ]
  },
  {
   "cell_type": "code",
   "execution_count": 12,
   "metadata": {},
   "outputs": [
    {
     "name": "stdout",
     "output_type": "stream",
     "text": [
      "{3}\n"
     ]
    }
   ],
   "source": [
    "A = {1, 2, 3}\n",
    "B = {3, 4, 5}\n",
    "intersecao = A.intersection(B)\n",
    "print(intersecao)"
   ]
  },
  {
   "cell_type": "markdown",
   "metadata": {},
   "source": [
    "A interseção retorna apenas os elementos comuns a ambos conjuntos. Podemos usar o método intersection() ou o operador &. Assim como a união, é uma operação comutativa."
   ]
  },
  {
   "cell_type": "markdown",
   "metadata": {},
   "source": [
    "8. Diferença entre Conjuntos"
   ]
  },
  {
   "cell_type": "code",
   "execution_count": 14,
   "metadata": {},
   "outputs": [
    {
     "name": "stdout",
     "output_type": "stream",
     "text": [
      "{1, 2}\n"
     ]
    }
   ],
   "source": [
    "A = {1, 2, 3}\n",
    "B = {3, 4, 5}\n",
    "diferenca = A.difference(B)\n",
    "print(diferenca)"
   ]
  },
  {
   "cell_type": "markdown",
   "metadata": {},
   "source": [
    "A diferença de conjuntos (A - B) retorna elementos que estão em A mas não em B. Importante: não é comutativa (A - B ≠ B - A). A diferença simétrica (elementos em A ou B, mas não em ambos) pode ser obtida com A.symmetric_difference(B) ou A ^ B."
   ]
  },
  {
   "cell_type": "markdown",
   "metadata": {},
   "source": [
    "9. Diferença Simétrica entre Conjuntos"
   ]
  },
  {
   "cell_type": "code",
   "execution_count": 15,
   "metadata": {},
   "outputs": [
    {
     "name": "stdout",
     "output_type": "stream",
     "text": [
      "{1, 2, 4, 5}\n"
     ]
    }
   ],
   "source": [
    "A = {1, 2, 3}\n",
    "B = {3, 4, 5}\n",
    "diff_simetrica = A.symmetric_difference(B)  # ou: diff_simetrica = A ^ B\n",
    "print(diff_simetrica)"
   ]
  },
  {
   "cell_type": "markdown",
   "metadata": {},
   "source": [
    "A diferença simétrica retorna elementos que estão em apenas um dos conjuntos (união sem a interseção). É equivalente a (A - B) ∪ (B - A) ou (A ∪ B) - (A ∩ B)."
   ]
  },
  {
   "cell_type": "markdown",
   "metadata": {},
   "source": [
    "10. Subconjuntos e Superconjuntos"
   ]
  },
  {
   "cell_type": "code",
   "execution_count": 16,
   "metadata": {},
   "outputs": [
    {
     "name": "stdout",
     "output_type": "stream",
     "text": [
      "True\n",
      "True\n"
     ]
    }
   ],
   "source": [
    "A = {1, 2, 3}\n",
    "B = {1, 2, 3, 4, 5}\n",
    "print(A.issubset(B))  # ou: print(A <= B) → True\n",
    "print(B.issuperset(A))  # ou: print(B >= A) → True"
   ]
  },
  {
   "cell_type": "markdown",
   "metadata": {},
   "source": [
    "Um conjunto A é subconjunto de B se todos seus elementos estão em B. B é superconjunto de A se contém todos elementos de A. O método issubset() e operador <= são equivalentes."
   ]
  },
  {
   "cell_type": "markdown",
   "metadata": {},
   "source": [
    "11. Números Pares Maiores que 10"
   ]
  },
  {
   "cell_type": "code",
   "execution_count": 17,
   "metadata": {},
   "outputs": [
    {
     "name": "stdout",
     "output_type": "stream",
     "text": [
      "{12, 14, 16, 18, 20, 22, 24, 26, 28, 30, 32, 34, 36, 38, 40, 42, 44, 46, 48, 50, 52, 54, 56, 58, 60, 62, 64, 66, 68, 70, 72, 74, 76, 78, 80, 82, 84, 86, 88, 90, 92, 94, 96, 98}\n"
     ]
    }
   ],
   "source": [
    "B = {x for x in range(12, 100, 2)} \n",
    "print(B)"
   ]
  },
  {
   "cell_type": "markdown",
   "metadata": {},
   "source": [
    " Usamos range(início, fim, passo) para gerar números pares eficientemente. O início é 12 pois é o primeiro par maior que 10."
   ]
  },
  {
   "cell_type": "markdown",
   "metadata": {},
   "source": [
    "12. Números Primos Menores que 20"
   ]
  },
  {
   "cell_type": "code",
   "execution_count": 18,
   "metadata": {},
   "outputs": [
    {
     "name": "stdout",
     "output_type": "stream",
     "text": [
      "{2, 3, 5, 7, 11, 13, 17, 19}\n"
     ]
    }
   ],
   "source": [
    "def is_prime(n):\n",
    "    if n < 2: return False\n",
    "    for i in range(2, int(n**0.5)+1):\n",
    "        if n % i == 0: return False\n",
    "    return True\n",
    "\n",
    "P = {x for x in range(2, 20) if is_prime(x)}\n",
    "print(P)"
   ]
  },
  {
   "cell_type": "markdown",
   "metadata": {},
   "source": [
    "Criamos uma função auxiliar para verificar primalidade e usamos compreensão de conjunto para filtrar os primos."
   ]
  },
  {
   "cell_type": "markdown",
   "metadata": {},
   "source": [
    "13. Números Ímpares Divisíveis por 3 até 30"
   ]
  },
  {
   "cell_type": "code",
   "execution_count": 24,
   "metadata": {},
   "outputs": [
    {
     "name": "stdout",
     "output_type": "stream",
     "text": [
      "{3, 6, 9, 12, 15, 18, 21, 24, 27, 30}\n"
     ]
    }
   ],
   "source": [
    "I = {x for x in range(3, 31) if x % 3 == 0}\n",
    "print(I)"
   ]
  },
  {
   "cell_type": "markdown",
   "metadata": {},
   "source": [
    "Geramos números ímpares de 3 a 31 e filtramos os divisíveis por 3."
   ]
  },
  {
   "cell_type": "markdown",
   "metadata": {},
   "source": [
    "14. Quadrados Perfeitos Menores que 100"
   ]
  },
  {
   "cell_type": "code",
   "execution_count": 25,
   "metadata": {},
   "outputs": [
    {
     "name": "stdout",
     "output_type": "stream",
     "text": [
      "{64, 1, 4, 36, 100, 9, 16, 49, 81, 25}\n"
     ]
    }
   ],
   "source": [
    "Q = {x**2 for x in range(1, int(100**0.5)+1)}\n",
    "print(Q)"
   ]
  },
  {
   "cell_type": "markdown",
   "metadata": {},
   "source": [
    "Calculamos o maior inteiro cujo quadrado é menor que 100 (√100 = 10) e geramos quadrados de 1 a 9."
   ]
  },
  {
   "cell_type": "markdown",
   "metadata": {},
   "source": [
    "15. Múltiplos de 5 entre 10 e 50"
   ]
  },
  {
   "cell_type": "code",
   "execution_count": 28,
   "metadata": {},
   "outputs": [
    {
     "name": "stdout",
     "output_type": "stream",
     "text": [
      "{35, 40, 45, 15, 20, 25, 30}\n"
     ]
    }
   ],
   "source": [
    "M = {x for x in range(15, 50, 5)}  \n",
    "print(M)"
   ]
  },
  {
   "cell_type": "markdown",
   "metadata": {},
   "source": [
    "Usamos range com passo 5 para gerar diretamente os múltiplos. O início é 15 pois é o primeiro múltiplo de 5 maior que 10."
   ]
  },
  {
   "cell_type": "markdown",
   "metadata": {},
   "source": [
    "Slide 19 - Operação Produto Cartesiano"
   ]
  },
  {
   "cell_type": "code",
   "execution_count": 29,
   "metadata": {},
   "outputs": [
    {
     "name": "stdout",
     "output_type": "stream",
     "text": [
      "A × B = [(1, 3), (1, 4), (2, 3), (2, 4)]\n",
      "B × A = [(3, 1), (3, 2), (4, 1), (4, 2)]\n",
      "A × A (A²) = [(1, 1), (1, 2), (2, 1), (2, 2)]\n"
     ]
    }
   ],
   "source": [
    "# Definindo os conjuntos A e B\n",
    "A = {1, 2}\n",
    "B = {3, 4}\n",
    "\n",
    "# Calculando o produto cartesiano A × B\n",
    "AxB = {(a, b) for a in A for b in B}\n",
    "\n",
    "# Calculando o produto cartesiano B × A\n",
    "BxA = {(b, a) for b in B for a in A}\n",
    "\n",
    "# Calculando o produto cartesiano A × A (A²)\n",
    "AxA = {(a1, a2) for a1 in A for a2 in A}\n",
    "\n",
    "# Imprimindo os resultados\n",
    "print(\"A × B =\", sorted(AxB))  # sorted apenas para ordenar a exibição\n",
    "print(\"B × A =\", sorted(BxA))\n",
    "print(\"A × A (A²) =\", sorted(AxA))"
   ]
  },
  {
   "cell_type": "markdown",
   "metadata": {},
   "source": [
    "\n",
    "Slide 27 - Relação Reflexiva"
   ]
  },
  {
   "cell_type": "code",
   "execution_count": 42,
   "metadata": {},
   "outputs": [
    {
     "name": "stdout",
     "output_type": "stream",
     "text": [
      "Relação ≤ em Z:\n",
      "5 ≤ 5: True\n",
      "-3 ≤ -3: True\n",
      "0 ≤ 0: True\n",
      "\n",
      "Relação ⊆ em coleção de conjuntos:\n",
      "{1,2} ⊆ {1,2}: True\n",
      "\n",
      "Relação ⊥ em retas:\n",
      "r ⊥ r: False\n",
      "\n",
      "Relação || em retas:\n",
      "r || r: True\n",
      "\n",
      "Relação | em N:\n",
      "5 | 5: True\n",
      "12 | 12: True\n"
     ]
    }
   ],
   "source": [
    "# Relação ≤ no conjunto Z (números inteiros)\n",
    "def reflexiva_menor_igual(a):\n",
    "    return a <= a \n",
    "\n",
    "print(\"Relação ≤ em Z:\")\n",
    "print(\"5 ≤ 5:\", reflexiva_menor_igual(5))  \n",
    "print(\"-3 ≤ -3:\", reflexiva_menor_igual(-3))  \n",
    "print(\"0 ≤ 0:\", reflexiva_menor_igual(0))  \n",
    "\n",
    "# Relação de inclusão ⊆ em uma coleção C de conjuntos\n",
    "def reflexiva_inclusao(conjunto, colecao):\n",
    "    return conjunto.issubset(conjunto)  \n",
    "\n",
    "C = [{1, 2}, {3, 4}]\n",
    "print(\"\\nRelação ⊆ em coleção de conjuntos:\")\n",
    "print(\"{1,2} ⊆ {1,2}:\", reflexiva_inclusao({1, 2}, C))  \n",
    "\n",
    "\n",
    "\n",
    "# Relação ⊥ (perpendicularidade) em retas no plano\n",
    "class Reta1:\n",
    "    def __init__(self, a, b, c):  # Formato: ax + by + c = 0\n",
    "        self.a = a\n",
    "        self.b = b\n",
    "        self.c = c\n",
    "    \n",
    "    def coeficiente_angular(self):\n",
    "        if self.b == 0:\n",
    "            return float('inf')  # Reta vertical\n",
    "        return -self.a / self.b\n",
    "\n",
    "def reflexiva_perpendicular(r1, r2):\n",
    "    \"\"\"\n",
    "    Verifica se duas retas são perpendiculares\n",
    "    Retorna:\n",
    "        True - se são perpendiculares\n",
    "        False - se não são perpendiculares ou se são a mesma reta\n",
    "    \"\"\"\n",
    "    if r1 == r2:\n",
    "        return False  # Uma reta não é perpendicular a si mesma\n",
    "    \n",
    "    m1 = r1.coeficiente_angular()\n",
    "    m2 = r2.coeficiente_angular()\n",
    "    \n",
    "    # Caso uma reta seja vertical e a outra horizontal\n",
    "    if (m1 == float('inf') and m2 == 0) or (m1 == 0 and m2 == float('inf')):\n",
    "        return True\n",
    "    \n",
    "    # Caso geral: produto dos coeficientes angulares deve ser -1\n",
    "    return abs(m1 * m2 + 1) < 1e-9  # Tolerância numérica\n",
    "\n",
    "print(\"\\nRelação ⊥ em retas:\")\n",
    "print(\"r ⊥ r:\", reflexiva_perpendicular(Reta1(1, 1, 0), Reta1(1, 1, 0)))  \n",
    "\n",
    "\n",
    "\n",
    "\n",
    "# Relação || (paralelismo) em retas no plano\n",
    "class Reta:\n",
    "    def __init__(self, m, b):\n",
    "        self.m = m  # Coeficiente angular\n",
    "        self.b = b  # Coeficiente linear\n",
    "\n",
    "def reflexiva_paralelismo(r1, r2):\n",
    "    if r1 == r2:\n",
    "        return True\n",
    "    return r1.m == r2.m \n",
    "\n",
    "print(\"\\nRelação || em retas:\")\n",
    "print(\"r || r:\", reflexiva_paralelismo(Reta(2, 3), Reta(2, 3)))  \n",
    "\n",
    "\n",
    "# Relação | (divisibilidade) em N\n",
    "def reflexiva_divisibilidade(a, b):\n",
    "    if a == b:\n",
    "        return a % b == 0\n",
    "    return False\n",
    "\n",
    "print(\"\\nRelação | em N:\")\n",
    "print(\"5 | 5:\", reflexiva_divisibilidade(5, 5)) \n",
    "print(\"12 | 12:\", reflexiva_divisibilidade(12, 12))  "
   ]
  },
  {
   "cell_type": "markdown",
   "metadata": {},
   "source": [
    "\n",
    "19. Relação Simétrica:"
   ]
  },
  {
   "cell_type": "code",
   "execution_count": 32,
   "metadata": {},
   "outputs": [
    {
     "name": "stdout",
     "output_type": "stream",
     "text": [
      "R1 é simétrica? False\n",
      "R2 é simétrica? True\n",
      "R3 é simétrica? False\n",
      "R4 é simétrica? True\n",
      "R5 é simétrica? True\n"
     ]
    }
   ],
   "source": [
    "def is_simetrica(relacao):\n",
    "    for (a, b) in relacao:\n",
    "        if (b, a) not in relacao:\n",
    "            return False\n",
    "    return True\n",
    "\n",
    "R1 = {(1,1), (1,2), (2,3), (1,3), (4,4)}\n",
    "R2 = {(1,1), (1,2), (2,1), (2,2), (3,3), (4,4)}\n",
    "R3 = {(1,3), (2,1)}\n",
    "R4 = set() \n",
    "R5 = {(1,1), (1,2), (2,1), (1,3), (3,1), (2,2), (2,3), (3,2), (3,3)} \n",
    "\n",
    "print(\"R1 é simétrica?\", is_simetrica(R1))  \n",
    "print(\"R2 é simétrica?\", is_simetrica(R2))  \n",
    "print(\"R3 é simétrica?\", is_simetrica(R3))  \n",
    "print(\"R4 é simétrica?\", is_simetrica(R4))  \n",
    "print(\"R5 é simétrica?\", is_simetrica(R5))  "
   ]
  },
  {
   "cell_type": "markdown",
   "metadata": {},
   "source": [
    "\n",
    "Slide 29 - Transitividade"
   ]
  },
  {
   "cell_type": "code",
   "execution_count": 34,
   "metadata": {},
   "outputs": [
    {
     "name": "stdout",
     "output_type": "stream",
     "text": [
      "R1 é transitiva? True\n",
      "R2 é transitiva? True\n",
      "R3 é transitiva? False\n",
      "R4 é transitiva? True\n",
      "R5 é transitiva? True\n"
     ]
    }
   ],
   "source": [
    "def is_transitiva(relacao):\n",
    "    for (a, b) in relacao:\n",
    "        for (c, d) in relacao:\n",
    "            if b == c and (a, d) not in relacao:\n",
    "                return False\n",
    "    return True\n",
    "\n",
    "R1 = {(1,1), (1,2), (2,3), (1,3), (4,4)}\n",
    "R2 = {(1,1), (1,2), (2,1), (2,2), (3,3), (4,4)}\n",
    "R3 = {(1,3), (2,1)}\n",
    "R4 = set()\n",
    "A = {1, 2, 3}\n",
    "R5 = {(a, b) for a in A for b in A}  # A × A\n",
    "\n",
    "print(\"R1 é transitiva?\", is_transitiva(R1))  \n",
    "print(\"R2 é transitiva?\", is_transitiva(R2))  \n",
    "print(\"R3 é transitiva?\", is_transitiva(R3))  \n",
    "print(\"R4 é transitiva?\", is_transitiva(R4))  \n",
    "print(\"R5 é transitiva?\", is_transitiva(R5))  "
   ]
  },
  {
   "cell_type": "markdown",
   "metadata": {},
   "source": [
    "21. Relações de Equivalência:"
   ]
  },
  {
   "cell_type": "code",
   "execution_count": 33,
   "metadata": {},
   "outputs": [
    {
     "name": "stdout",
     "output_type": "stream",
     "text": [
      "Relação 1 é de equivalência? True\n",
      "Relação 2 é de equivalência? True\n",
      "Relação 3 é de equivalência? True\n"
     ]
    }
   ],
   "source": [
    "def is_reflexiva(relacao, conjunto):\n",
    "    return all((a, a) in relacao for a in conjunto)\n",
    "\n",
    "def is_simetrica(relacao):\n",
    "    return all((b, a) in relacao for (a, b) in relacao)\n",
    "\n",
    "def is_transitiva(relacao):\n",
    "    return all((a, c) in relacao for (a, b) in relacao for (c, d) in relacao if b == c)\n",
    "\n",
    "def is_equivalencia(relacao, conjunto):\n",
    "    return (is_reflexiva(relacao, conjunto) and \n",
    "            is_simetrica(relacao) and \n",
    "            is_transitiva(relacao))\n",
    "\n",
    "# Caso 1: R = {(1,1), (2,2), (3,3), (1,2), (2,1)} em {1,2,3}\n",
    "R1 = {(1,1), (2,2), (3,3), (1,2), (2,1)}\n",
    "S1 = {1, 2, 3}\n",
    "print(\"Relação 1 é de equivalência?\", is_equivalencia(R1, S1)) \n",
    "\n",
    "# Caso 2: Relação \"x + y é par\" em N (implementada para um subconjunto finito)\n",
    "def soma_par(a, b):\n",
    "    return (a + b) % 2 == 0\n",
    "\n",
    "S2 = {1, 2, 3, 4, 5}\n",
    "R2 = {(a, b) for a in S2 for b in S2 if soma_par(a, b)}\n",
    "print(\"Relação 2 é de equivalência?\", is_equivalencia(R2, S2))\n",
    "\n",
    "# Caso 3: Relação \"x = y^(2n)\" em {0,1}\n",
    "def quadrado_par(a, b):\n",
    "    if a == b: return True\n",
    "    if 0 in (a, b) and 1 in (a, b): return False\n",
    "    return True\n",
    "\n",
    "S3 = {0, 1}\n",
    "R3 = {(a, b) for a in S3 for b in S3 if quadrado_par(a, b)}\n",
    "print(\"Relação 3 é de equivalência?\", is_equivalencia(R3, S3)) "
   ]
  }
 ],
 "metadata": {
  "kernelspec": {
   "display_name": "Python 3",
   "language": "python",
   "name": "python3"
  },
  "language_info": {
   "codemirror_mode": {
    "name": "ipython",
    "version": 3
   },
   "file_extension": ".py",
   "mimetype": "text/x-python",
   "name": "python",
   "nbconvert_exporter": "python",
   "pygments_lexer": "ipython3",
   "version": "3.13.1"
  }
 },
 "nbformat": 4,
 "nbformat_minor": 4
}
